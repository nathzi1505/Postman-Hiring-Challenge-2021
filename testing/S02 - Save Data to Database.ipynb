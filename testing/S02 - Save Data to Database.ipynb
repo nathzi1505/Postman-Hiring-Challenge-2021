{
 "cells": [
  {
   "cell_type": "code",
   "execution_count": 1,
   "metadata": {},
   "outputs": [],
   "source": [
    "import sqlalchemy as db"
   ]
  },
  {
   "cell_type": "code",
   "execution_count": 2,
   "metadata": {},
   "outputs": [],
   "source": [
    "import pickle\n",
    "data = pickle.load(open(\"./data.pkl\", \"rb\"))"
   ]
  },
  {
   "cell_type": "code",
   "execution_count": 3,
   "metadata": {},
   "outputs": [
    {
     "data": {
      "text/plain": [
       "['config.ini']"
      ]
     },
     "execution_count": 3,
     "metadata": {},
     "output_type": "execute_result"
    }
   ],
   "source": [
    "import configparser\n",
    "\n",
    "config = configparser.ConfigParser()\n",
    "config.read('config.ini')"
   ]
  },
  {
   "cell_type": "code",
   "execution_count": 4,
   "metadata": {},
   "outputs": [],
   "source": [
    "DATABASE_URI = config['MYSQL']['URI']"
   ]
  },
  {
   "cell_type": "code",
   "execution_count": 5,
   "metadata": {},
   "outputs": [],
   "source": [
    "class PublicApiDatabaseHandler():\n",
    "    \n",
    "    def __init__(self, drop_tables=True):\n",
    "        self.engine = db.create_engine(DATABASE_URI)\n",
    "        self.metadata = db.MetaData()\n",
    "        self.connection = self.engine.connect()\n",
    "        \n",
    "        try:\n",
    "            self.category_table = db.Table('category', self.metadata, autoload=True, autoload_with=self.engine)\n",
    "            self.api_table = db.Table('api', self.metadata, autoload=True, autoload_with=self.engine)\n",
    "\n",
    "            if drop_tables:\n",
    "                self.__drop_tables()\n",
    "            \n",
    "            self.metadata.clear()\n",
    "            self.__create_tables()       \n",
    "        except:\n",
    "            self.__create_tables()           \n",
    "        \n",
    "    def __drop_tables(self):        \n",
    "        self.api_table.drop(self.engine)\n",
    "        self.category_table.drop(self.engine)\n",
    "        \n",
    "    def __create_tables(self):        \n",
    "        self.category_table = db.Table('category', self.metadata,                           \n",
    "                  db.Column('category_id', db.Integer(), primary_key=True),\n",
    "                  db.Column('category_name', db.String(255)),        \n",
    "                )\n",
    "\n",
    "        self.api_table = db.Table('api', self.metadata,                           \n",
    "                      db.Column('api_id', db.Integer(), primary_key=True),\n",
    "                      db.Column('api_name', db.Text(), nullable=False),\n",
    "                      db.Column('api_description', db.Text()),     \n",
    "                      db.Column('auth', db.String(255)),\n",
    "                      db.Column('https', db.Boolean(), nullable=False),                           \n",
    "                      db.Column('cors', db.String(16), nullable=False),\n",
    "                      db.Column('link', db.Text(), nullable=False),\n",
    "                      db.Column('category_id', db.Integer(), db.ForeignKey(\"category.category_id\", ondelete=\"CASCADE\"), \n",
    "                                nullable=False),           \n",
    "                    )\n",
    "\n",
    "        self.metadata.create_all(self.engine)\n",
    "        \n",
    "    \n",
    "    def populate_categories(self, category_list):\n",
    "        category_value_list =  [{\"category_name\": x} for x in category_list]\n",
    "        query = db.insert(self.category_table)\n",
    "        ResultProxy = self.connection.execute(query, category_value_list)\n",
    "\n",
    "    def populate_apis_for_category(self, category, api_list):\n",
    "        query = db.select([self.category_table.columns.category_id]).where(self.category_table.columns.category_name == category)\n",
    "        category_id = self.connection.execute(query).scalar()\n",
    "        \n",
    "        for row in api_list: \n",
    "            api_name, api_description, auth, https, cors, link, _ = row.values()\n",
    "\n",
    "            cors = cors.capitalize()\n",
    "            api_name = api_name.capitalize()\n",
    "            api_description = api_description.capitalize()\n",
    "\n",
    "            if len(auth) == 0: auth = None\n",
    "            if len(api_description) == 0: api_description = None    \n",
    "\n",
    "            db_row = {\n",
    "                \"api_name\": api_name,\n",
    "                \"api_description\": api_description,\n",
    "                \"auth\": auth,\n",
    "                \"https\": https,\n",
    "                \"cors\": cors,\n",
    "                \"link\": link,\n",
    "                \"category_id\": category_id\n",
    "            }\n",
    "\n",
    "            query = db.insert(self.api_table)\n",
    "            ResultProxy = self.connection.execute(query, db_row)"
   ]
  },
  {
   "cell_type": "code",
   "execution_count": 6,
   "metadata": {},
   "outputs": [],
   "source": [
    "padh = PublicApiDatabaseHandler()"
   ]
  },
  {
   "cell_type": "code",
   "execution_count": 7,
   "metadata": {},
   "outputs": [],
   "source": [
    "padh.populate_categories(data.keys())"
   ]
  },
  {
   "cell_type": "code",
   "execution_count": 8,
   "metadata": {},
   "outputs": [],
   "source": [
    "for category in data.keys():\n",
    "    padh.populate_apis_for_category(category, data[category])"
   ]
  }
 ],
 "metadata": {
  "kernelspec": {
   "display_name": "Python 3",
   "language": "python",
   "name": "python3"
  },
  "language_info": {
   "codemirror_mode": {
    "name": "ipython",
    "version": 3
   },
   "file_extension": ".py",
   "mimetype": "text/x-python",
   "name": "python",
   "nbconvert_exporter": "python",
   "pygments_lexer": "ipython3",
   "version": "3.8.5"
  }
 },
 "nbformat": 4,
 "nbformat_minor": 4
}
