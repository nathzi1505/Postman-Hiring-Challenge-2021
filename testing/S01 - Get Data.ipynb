{
 "cells": [
  {
   "cell_type": "code",
   "execution_count": null,
   "metadata": {},
   "outputs": [],
   "source": [
    "import requests\n",
    "import time"
   ]
  },
  {
   "cell_type": "code",
   "execution_count": null,
   "metadata": {},
   "outputs": [],
   "source": [
    "BASE_API_URL = \"https://public-apis-api.herokuapp.com/api/v1/\"\n",
    "AUTH_ENDPOINT = BASE_API_URL + \"auth/token\"\n",
    "LIST_OF_CATEGORIES_ENDPOINT = BASE_API_URL + \"apis/categories\"\n",
    "API_DESCRIPTION_ENDPOINT = BASE_API_URL + \"apis/entry\"\n",
    "\n",
    "SLEEP_DURATION = 2 # in seconds\n",
    "EXTENDED_SLEEP_DURATION = 60  # in seconds"
   ]
  },
  {
   "cell_type": "code",
   "execution_count": 3,
   "metadata": {},
   "outputs": [],
   "source": [
    "class PublicApi():\n",
    "    \n",
    "    def __get_auth_token(self):\n",
    "        endpoint = AUTH_ENDPOINT\n",
    "        response = requests.request(\"GET\", endpoint).json()\n",
    "        self._auth_token = response['token']\n",
    "\n",
    "    def __send_request(self, request_type, **kwargs):\n",
    "        \n",
    "        headers  = {\"Authorization\": \"Bearer \" + self._auth_token}\n",
    "        params = {}\n",
    "        \n",
    "        if request_type.lower() == \"catg_list\":\n",
    "            endpoint = LIST_OF_CATEGORIES_ENDPOINT       \n",
    "            params  = {\"page\": kwargs['page']}\n",
    "            \n",
    "        elif request_type.lower() == \"api_desc\":\n",
    "            endpoint = API_DESCRIPTION_ENDPOINT       \n",
    "            params  = {\"category\": kwargs['category'], \"page\": kwargs['page']}\n",
    "            \n",
    "        response = requests.request(\"GET\", endpoint, headers=headers, params=params) \n",
    "        \n",
    "        if response.status_code == 403:\n",
    "            print(\"Token failure ... fetching new token\")\n",
    "            self.__get_auth_token()\n",
    "            response = self.__send_request(request_type, **kwargs)\n",
    "        \n",
    "        if response.status_code == 429:\n",
    "            print(\"Too many requests ... waiting for 1 minute\")\n",
    "            time.sleep(EXTENDED_SLEEP_DURATION)\n",
    "            response = self.__send_request(request_type, **kwargs)\n",
    "        \n",
    "        return response\n",
    "            \n",
    "    def __init__(self):\n",
    "        self.__get_auth_token()\n",
    "    \n",
    "    def get_list_of_all_categories(self):        \n",
    "        break_flag = False\n",
    "        category_list = []\n",
    "        page = 1\n",
    "        \n",
    "        while (break_flag != True):            \n",
    "            data = self.__send_request(request_type=\"catg_list\", page=page).json()\n",
    "            \n",
    "            if len(data['categories']) == 0:\n",
    "                break_flag = True\n",
    "            else:\n",
    "                category_list += data['categories']\n",
    "                page += 1\n",
    "                time.sleep(SLEEP_DURATION)\n",
    "                \n",
    "        return category_list\n",
    "    \n",
    "    def get_data_for_a_category(self, category):\n",
    "        break_flag = False\n",
    "        api_list = []\n",
    "        page = 1\n",
    "        \n",
    "        while (break_flag != True):            \n",
    "            data = self.__send_request(request_type=\"api_desc\", category=category, page=page).json()\n",
    "            \n",
    "            if len(data['categories']) == 0:\n",
    "                break_flag = True\n",
    "            else:\n",
    "                api_list += data['categories']\n",
    "                page += 1\n",
    "                time.sleep(SLEEP_DURATION)\n",
    "                \n",
    "        return api_list"
   ]
  },
  {
   "cell_type": "code",
   "execution_count": 4,
   "metadata": {},
   "outputs": [],
   "source": [
    "public_api = PublicApi()"
   ]
  },
  {
   "cell_type": "code",
   "execution_count": 5,
   "metadata": {},
   "outputs": [],
   "source": [
    "category_list = public_api.get_list_of_all_categories()"
   ]
  },
  {
   "cell_type": "code",
   "execution_count": 6,
   "metadata": {
    "collapsed": true,
    "jupyter": {
     "outputs_hidden": true
    }
   },
   "outputs": [
    {
     "data": {
      "text/plain": [
       "['Animals',\n",
       " 'Anime',\n",
       " 'Anti-Malware',\n",
       " 'Art & Design',\n",
       " 'Books',\n",
       " 'Business',\n",
       " 'Calendar',\n",
       " 'Cloud Storage & File Sharing',\n",
       " 'Continuous Integration',\n",
       " 'Cryptocurrency',\n",
       " 'Currency Exchange',\n",
       " 'Data Validation',\n",
       " 'Development',\n",
       " 'Dictionaries',\n",
       " 'Documents & Productivity',\n",
       " 'Environment',\n",
       " 'Events',\n",
       " 'Finance',\n",
       " 'Food & Drink',\n",
       " 'Games & Comics',\n",
       " 'Geocoding',\n",
       " 'Government',\n",
       " 'Health',\n",
       " 'Jobs',\n",
       " 'Machine Learning',\n",
       " 'Music',\n",
       " 'News',\n",
       " 'Open Data',\n",
       " 'Open Source Projects',\n",
       " 'Patent',\n",
       " 'Personality',\n",
       " 'Photography',\n",
       " 'Science & Math',\n",
       " 'Security',\n",
       " 'Shopping',\n",
       " 'Social',\n",
       " 'Sports & Fitness',\n",
       " 'Test Data',\n",
       " 'Text Analysis',\n",
       " 'Tracking',\n",
       " 'Transportation',\n",
       " 'URL Shorteners',\n",
       " 'Vehicle',\n",
       " 'Video',\n",
       " 'Weather']"
      ]
     },
     "execution_count": 6,
     "metadata": {},
     "output_type": "execute_result"
    }
   ],
   "source": [
    "category_list"
   ]
  },
  {
   "cell_type": "code",
   "execution_count": 7,
   "metadata": {
    "collapsed": true,
    "jupyter": {
     "outputs_hidden": true
    }
   },
   "outputs": [
    {
     "name": "stdout",
     "output_type": "stream",
     "text": [
      "Too many requests ... waiting for 1 minute\n",
      "Too many requests ... waiting for 1 minute\n",
      "Token failure ... fetching new token\n",
      "Too many requests ... waiting for 1 minute\n",
      "Too many requests ... waiting for 1 minute\n",
      "Too many requests ... waiting for 1 minute\n",
      "Too many requests ... waiting for 1 minute\n",
      "Token failure ... fetching new token\n",
      "Too many requests ... waiting for 1 minute\n",
      "Too many requests ... waiting for 1 minute\n",
      "Too many requests ... waiting for 1 minute\n",
      "Too many requests ... waiting for 1 minute\n",
      "Token failure ... fetching new token\n"
     ]
    }
   ],
   "source": [
    "data_repository = {}\n",
    "for category in category_list:\n",
    "    api_list = public_api.get_data_for_a_category(category)\n",
    "    data_repository[category] = api_list"
   ]
  },
  {
   "cell_type": "code",
   "execution_count": 8,
   "metadata": {},
   "outputs": [],
   "source": [
    "import pickle\n",
    "\n",
    "pickle.dump(data_repository, open(\"./data.pkl\", \"wb\"), protocol=4)"
   ]
  },
  {
   "cell_type": "raw",
   "metadata": {},
   "source": [
    "data = pickle.load(open(\"./data.pkl\", \"rb\"))"
   ]
  }
 ],
 "metadata": {
  "kernelspec": {
   "display_name": "Python 3",
   "language": "python",
   "name": "python3"
  },
  "language_info": {
   "codemirror_mode": {
    "name": "ipython",
    "version": 3
   },
   "file_extension": ".py",
   "mimetype": "text/x-python",
   "name": "python",
   "nbconvert_exporter": "python",
   "pygments_lexer": "ipython3",
   "version": "3.8.5"
  }
 },
 "nbformat": 4,
 "nbformat_minor": 4
}
